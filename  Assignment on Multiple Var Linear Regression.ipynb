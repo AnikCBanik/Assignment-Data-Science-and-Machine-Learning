{
 "cells": [
  {
   "cell_type": "markdown",
   "id": "719899b3",
   "metadata": {},
   "source": [
    "# Assignment 06"
   ]
  },
  {
   "cell_type": "code",
   "execution_count": 1,
   "id": "e3e0041d",
   "metadata": {},
   "outputs": [],
   "source": [
    "# import the data\n",
    "# sep x,y\n",
    "# find out the coef , intercept\n",
    "# y = m1*x1 + m2*x2 + m3*x3 + c\n",
    "\n",
    "#KNN Regressor\n",
    "\n",
    "\n",
    "# calculate r2_score\n",
    "#compared"
   ]
  },
  {
   "cell_type": "code",
   "execution_count": 2,
   "id": "9dd16cca",
   "metadata": {},
   "outputs": [],
   "source": [
    "import pandas as pd\n",
    "import numpy as np\n",
    "import matplotlib.pyplot as plt\n",
    "import seaborn as sns\n",
    "import warnings\n",
    "warnings.filterwarnings('ignore')\n"
   ]
  },
  {
   "cell_type": "code",
   "execution_count": 3,
   "id": "c61245eb",
   "metadata": {},
   "outputs": [],
   "source": [
    "df = pd.read_csv('insurance.csv')"
   ]
  },
  {
   "cell_type": "code",
   "execution_count": 4,
   "id": "6c25639b",
   "metadata": {},
   "outputs": [
    {
     "data": {
      "text/html": [
       "<div>\n",
       "<style scoped>\n",
       "    .dataframe tbody tr th:only-of-type {\n",
       "        vertical-align: middle;\n",
       "    }\n",
       "\n",
       "    .dataframe tbody tr th {\n",
       "        vertical-align: top;\n",
       "    }\n",
       "\n",
       "    .dataframe thead th {\n",
       "        text-align: right;\n",
       "    }\n",
       "</style>\n",
       "<table border=\"1\" class=\"dataframe\">\n",
       "  <thead>\n",
       "    <tr style=\"text-align: right;\">\n",
       "      <th></th>\n",
       "      <th>age</th>\n",
       "      <th>sex</th>\n",
       "      <th>bmi</th>\n",
       "      <th>children</th>\n",
       "      <th>smoker</th>\n",
       "      <th>region</th>\n",
       "      <th>charges</th>\n",
       "    </tr>\n",
       "  </thead>\n",
       "  <tbody>\n",
       "    <tr>\n",
       "      <th>0</th>\n",
       "      <td>19</td>\n",
       "      <td>female</td>\n",
       "      <td>27.900</td>\n",
       "      <td>0</td>\n",
       "      <td>yes</td>\n",
       "      <td>southwest</td>\n",
       "      <td>16884.92400</td>\n",
       "    </tr>\n",
       "    <tr>\n",
       "      <th>1</th>\n",
       "      <td>18</td>\n",
       "      <td>male</td>\n",
       "      <td>33.770</td>\n",
       "      <td>1</td>\n",
       "      <td>no</td>\n",
       "      <td>southeast</td>\n",
       "      <td>1725.55230</td>\n",
       "    </tr>\n",
       "    <tr>\n",
       "      <th>2</th>\n",
       "      <td>28</td>\n",
       "      <td>male</td>\n",
       "      <td>33.000</td>\n",
       "      <td>3</td>\n",
       "      <td>no</td>\n",
       "      <td>southeast</td>\n",
       "      <td>4449.46200</td>\n",
       "    </tr>\n",
       "    <tr>\n",
       "      <th>3</th>\n",
       "      <td>33</td>\n",
       "      <td>male</td>\n",
       "      <td>22.705</td>\n",
       "      <td>0</td>\n",
       "      <td>no</td>\n",
       "      <td>northwest</td>\n",
       "      <td>21984.47061</td>\n",
       "    </tr>\n",
       "    <tr>\n",
       "      <th>4</th>\n",
       "      <td>32</td>\n",
       "      <td>male</td>\n",
       "      <td>28.880</td>\n",
       "      <td>0</td>\n",
       "      <td>no</td>\n",
       "      <td>northwest</td>\n",
       "      <td>3866.85520</td>\n",
       "    </tr>\n",
       "  </tbody>\n",
       "</table>\n",
       "</div>"
      ],
      "text/plain": [
       "   age     sex     bmi  children smoker     region      charges\n",
       "0   19  female  27.900         0    yes  southwest  16884.92400\n",
       "1   18    male  33.770         1     no  southeast   1725.55230\n",
       "2   28    male  33.000         3     no  southeast   4449.46200\n",
       "3   33    male  22.705         0     no  northwest  21984.47061\n",
       "4   32    male  28.880         0     no  northwest   3866.85520"
      ]
     },
     "execution_count": 4,
     "metadata": {},
     "output_type": "execute_result"
    }
   ],
   "source": [
    "df.head()"
   ]
  },
  {
   "cell_type": "code",
   "execution_count": 5,
   "id": "61eaf92e",
   "metadata": {},
   "outputs": [
    {
     "data": {
      "text/plain": [
       "(1338, 7)"
      ]
     },
     "execution_count": 5,
     "metadata": {},
     "output_type": "execute_result"
    }
   ],
   "source": [
    "df.shape"
   ]
  },
  {
   "cell_type": "code",
   "execution_count": 6,
   "id": "8596ba54",
   "metadata": {},
   "outputs": [
    {
     "data": {
      "text/plain": [
       "age         0\n",
       "sex         0\n",
       "bmi         0\n",
       "children    0\n",
       "smoker      0\n",
       "region      0\n",
       "charges     0\n",
       "dtype: int64"
      ]
     },
     "execution_count": 6,
     "metadata": {},
     "output_type": "execute_result"
    }
   ],
   "source": [
    "df.isnull().sum()"
   ]
  },
  {
   "cell_type": "code",
   "execution_count": 7,
   "id": "14b2f7dd",
   "metadata": {},
   "outputs": [
    {
     "data": {
      "text/html": [
       "<div>\n",
       "<style scoped>\n",
       "    .dataframe tbody tr th:only-of-type {\n",
       "        vertical-align: middle;\n",
       "    }\n",
       "\n",
       "    .dataframe tbody tr th {\n",
       "        vertical-align: top;\n",
       "    }\n",
       "\n",
       "    .dataframe thead th {\n",
       "        text-align: right;\n",
       "    }\n",
       "</style>\n",
       "<table border=\"1\" class=\"dataframe\">\n",
       "  <thead>\n",
       "    <tr style=\"text-align: right;\">\n",
       "      <th></th>\n",
       "      <th>age</th>\n",
       "      <th>sex</th>\n",
       "      <th>bmi</th>\n",
       "      <th>children</th>\n",
       "      <th>smoker</th>\n",
       "      <th>region</th>\n",
       "      <th>charges</th>\n",
       "    </tr>\n",
       "  </thead>\n",
       "  <tbody>\n",
       "    <tr>\n",
       "      <th>0</th>\n",
       "      <td>19</td>\n",
       "      <td>0</td>\n",
       "      <td>27.900</td>\n",
       "      <td>0</td>\n",
       "      <td>1</td>\n",
       "      <td>3</td>\n",
       "      <td>16884.92400</td>\n",
       "    </tr>\n",
       "    <tr>\n",
       "      <th>1</th>\n",
       "      <td>18</td>\n",
       "      <td>1</td>\n",
       "      <td>33.770</td>\n",
       "      <td>1</td>\n",
       "      <td>0</td>\n",
       "      <td>2</td>\n",
       "      <td>1725.55230</td>\n",
       "    </tr>\n",
       "    <tr>\n",
       "      <th>2</th>\n",
       "      <td>28</td>\n",
       "      <td>1</td>\n",
       "      <td>33.000</td>\n",
       "      <td>3</td>\n",
       "      <td>0</td>\n",
       "      <td>2</td>\n",
       "      <td>4449.46200</td>\n",
       "    </tr>\n",
       "    <tr>\n",
       "      <th>3</th>\n",
       "      <td>33</td>\n",
       "      <td>1</td>\n",
       "      <td>22.705</td>\n",
       "      <td>0</td>\n",
       "      <td>0</td>\n",
       "      <td>1</td>\n",
       "      <td>21984.47061</td>\n",
       "    </tr>\n",
       "    <tr>\n",
       "      <th>4</th>\n",
       "      <td>32</td>\n",
       "      <td>1</td>\n",
       "      <td>28.880</td>\n",
       "      <td>0</td>\n",
       "      <td>0</td>\n",
       "      <td>1</td>\n",
       "      <td>3866.85520</td>\n",
       "    </tr>\n",
       "  </tbody>\n",
       "</table>\n",
       "</div>"
      ],
      "text/plain": [
       "   age  sex     bmi  children  smoker  region      charges\n",
       "0   19    0  27.900         0       1       3  16884.92400\n",
       "1   18    1  33.770         1       0       2   1725.55230\n",
       "2   28    1  33.000         3       0       2   4449.46200\n",
       "3   33    1  22.705         0       0       1  21984.47061\n",
       "4   32    1  28.880         0       0       1   3866.85520"
      ]
     },
     "execution_count": 7,
     "metadata": {},
     "output_type": "execute_result"
    }
   ],
   "source": [
    "#Encoding\n",
    "from sklearn import preprocessing\n",
    "le = preprocessing.LabelEncoder()\n",
    "df.head()\n",
    "df.region = le.fit_transform(df.region)\n",
    "df.sex = le.fit_transform(df.sex) \n",
    "df.smoker = le.fit_transform(df.smoker) \n",
    "df.head()\n"
   ]
  },
  {
   "cell_type": "code",
   "execution_count": 8,
   "id": "69c9dd54",
   "metadata": {},
   "outputs": [
    {
     "data": {
      "text/html": [
       "<div>\n",
       "<style scoped>\n",
       "    .dataframe tbody tr th:only-of-type {\n",
       "        vertical-align: middle;\n",
       "    }\n",
       "\n",
       "    .dataframe tbody tr th {\n",
       "        vertical-align: top;\n",
       "    }\n",
       "\n",
       "    .dataframe thead th {\n",
       "        text-align: right;\n",
       "    }\n",
       "</style>\n",
       "<table border=\"1\" class=\"dataframe\">\n",
       "  <thead>\n",
       "    <tr style=\"text-align: right;\">\n",
       "      <th></th>\n",
       "      <th>age</th>\n",
       "      <th>sex</th>\n",
       "      <th>bmi</th>\n",
       "      <th>children</th>\n",
       "      <th>smoker</th>\n",
       "      <th>region</th>\n",
       "      <th>charges</th>\n",
       "    </tr>\n",
       "  </thead>\n",
       "  <tbody>\n",
       "    <tr>\n",
       "      <th>count</th>\n",
       "      <td>1338.000000</td>\n",
       "      <td>1338.000000</td>\n",
       "      <td>1338.000000</td>\n",
       "      <td>1338.000000</td>\n",
       "      <td>1338.000000</td>\n",
       "      <td>1338.000000</td>\n",
       "      <td>1338.000000</td>\n",
       "    </tr>\n",
       "    <tr>\n",
       "      <th>mean</th>\n",
       "      <td>39.207025</td>\n",
       "      <td>0.505232</td>\n",
       "      <td>30.663397</td>\n",
       "      <td>1.094918</td>\n",
       "      <td>0.204783</td>\n",
       "      <td>1.515695</td>\n",
       "      <td>13270.422265</td>\n",
       "    </tr>\n",
       "    <tr>\n",
       "      <th>std</th>\n",
       "      <td>14.049960</td>\n",
       "      <td>0.500160</td>\n",
       "      <td>6.098187</td>\n",
       "      <td>1.205493</td>\n",
       "      <td>0.403694</td>\n",
       "      <td>1.104885</td>\n",
       "      <td>12110.011237</td>\n",
       "    </tr>\n",
       "    <tr>\n",
       "      <th>min</th>\n",
       "      <td>18.000000</td>\n",
       "      <td>0.000000</td>\n",
       "      <td>15.960000</td>\n",
       "      <td>0.000000</td>\n",
       "      <td>0.000000</td>\n",
       "      <td>0.000000</td>\n",
       "      <td>1121.873900</td>\n",
       "    </tr>\n",
       "    <tr>\n",
       "      <th>25%</th>\n",
       "      <td>27.000000</td>\n",
       "      <td>0.000000</td>\n",
       "      <td>26.296250</td>\n",
       "      <td>0.000000</td>\n",
       "      <td>0.000000</td>\n",
       "      <td>1.000000</td>\n",
       "      <td>4740.287150</td>\n",
       "    </tr>\n",
       "    <tr>\n",
       "      <th>50%</th>\n",
       "      <td>39.000000</td>\n",
       "      <td>1.000000</td>\n",
       "      <td>30.400000</td>\n",
       "      <td>1.000000</td>\n",
       "      <td>0.000000</td>\n",
       "      <td>2.000000</td>\n",
       "      <td>9382.033000</td>\n",
       "    </tr>\n",
       "    <tr>\n",
       "      <th>75%</th>\n",
       "      <td>51.000000</td>\n",
       "      <td>1.000000</td>\n",
       "      <td>34.693750</td>\n",
       "      <td>2.000000</td>\n",
       "      <td>0.000000</td>\n",
       "      <td>2.000000</td>\n",
       "      <td>16639.912515</td>\n",
       "    </tr>\n",
       "    <tr>\n",
       "      <th>max</th>\n",
       "      <td>64.000000</td>\n",
       "      <td>1.000000</td>\n",
       "      <td>53.130000</td>\n",
       "      <td>5.000000</td>\n",
       "      <td>1.000000</td>\n",
       "      <td>3.000000</td>\n",
       "      <td>63770.428010</td>\n",
       "    </tr>\n",
       "  </tbody>\n",
       "</table>\n",
       "</div>"
      ],
      "text/plain": [
       "               age          sex          bmi     children       smoker  \\\n",
       "count  1338.000000  1338.000000  1338.000000  1338.000000  1338.000000   \n",
       "mean     39.207025     0.505232    30.663397     1.094918     0.204783   \n",
       "std      14.049960     0.500160     6.098187     1.205493     0.403694   \n",
       "min      18.000000     0.000000    15.960000     0.000000     0.000000   \n",
       "25%      27.000000     0.000000    26.296250     0.000000     0.000000   \n",
       "50%      39.000000     1.000000    30.400000     1.000000     0.000000   \n",
       "75%      51.000000     1.000000    34.693750     2.000000     0.000000   \n",
       "max      64.000000     1.000000    53.130000     5.000000     1.000000   \n",
       "\n",
       "            region       charges  \n",
       "count  1338.000000   1338.000000  \n",
       "mean      1.515695  13270.422265  \n",
       "std       1.104885  12110.011237  \n",
       "min       0.000000   1121.873900  \n",
       "25%       1.000000   4740.287150  \n",
       "50%       2.000000   9382.033000  \n",
       "75%       2.000000  16639.912515  \n",
       "max       3.000000  63770.428010  "
      ]
     },
     "execution_count": 8,
     "metadata": {},
     "output_type": "execute_result"
    }
   ],
   "source": [
    "df.describe()"
   ]
  },
  {
   "cell_type": "code",
   "execution_count": 9,
   "id": "e869b2c6",
   "metadata": {},
   "outputs": [
    {
     "data": {
      "text/plain": [
       "<AxesSubplot:title={'center':'Data Description'}>"
      ]
     },
     "execution_count": 9,
     "metadata": {},
     "output_type": "execute_result"
    },
    {
     "data": {
      "image/png": "[encoded data removed]",
      "text/plain": [
       "<Figure size 1080x720 with 2 Axes>"
      ]
     },
     "metadata": {
      "needs_background": "light"
     },
     "output_type": "display_data"
    }
   ],
   "source": [
    "#data_visulation  #Data_Description\n",
    "plt.figure(figsize= (15,10))             \n",
    "plt.title('Data Description')\n",
    "sns.heatmap(df.describe(),cmap='ocean', annot= True)\n"
   ]
  },
  {
   "cell_type": "code",
   "execution_count": 10,
   "id": "13312c43",
   "metadata": {},
   "outputs": [
    {
     "data": {
      "text/plain": [
       "<AxesSubplot:title={'center':'Correlation for Every Column'}>"
      ]
     },
     "execution_count": 10,
     "metadata": {},
     "output_type": "execute_result"
    },
    {
     "data": {
      "image/png": "[encoded data removed]",
      "text/plain": [
       "<Figure size 1080x576 with 2 Axes>"
      ]
     },
     "metadata": {
      "needs_background": "light"
     },
     "output_type": "display_data"
    }
   ],
   "source": [
    "#data_visulation  #Data_correlation\n",
    "plt.figure(figsize= (15,8))             \n",
    "plt.title('Correlation for Every Column')\n",
    "sns.heatmap(df.corr(),cmap='CMRmap_r',annot= True)"
   ]
  },
  {
   "cell_type": "code",
   "execution_count": 11,
   "id": "f58c562e",
   "metadata": {},
   "outputs": [
    {
     "data": {
      "text/html": [
       "<div>\n",
       "<style scoped>\n",
       "    .dataframe tbody tr th:only-of-type {\n",
       "        vertical-align: middle;\n",
       "    }\n",
       "\n",
       "    .dataframe tbody tr th {\n",
       "        vertical-align: top;\n",
       "    }\n",
       "\n",
       "    .dataframe thead th {\n",
       "        text-align: right;\n",
       "    }\n",
       "</style>\n",
       "<table border=\"1\" class=\"dataframe\">\n",
       "  <thead>\n",
       "    <tr style=\"text-align: right;\">\n",
       "      <th></th>\n",
       "      <th>age</th>\n",
       "      <th>sex</th>\n",
       "      <th>bmi</th>\n",
       "      <th>children</th>\n",
       "      <th>smoker</th>\n",
       "      <th>region</th>\n",
       "      <th>charges</th>\n",
       "    </tr>\n",
       "  </thead>\n",
       "  <tbody>\n",
       "    <tr>\n",
       "      <th>0</th>\n",
       "      <td>19</td>\n",
       "      <td>0</td>\n",
       "      <td>27.900</td>\n",
       "      <td>0</td>\n",
       "      <td>1</td>\n",
       "      <td>3</td>\n",
       "      <td>16884.92400</td>\n",
       "    </tr>\n",
       "    <tr>\n",
       "      <th>1</th>\n",
       "      <td>18</td>\n",
       "      <td>1</td>\n",
       "      <td>33.770</td>\n",
       "      <td>1</td>\n",
       "      <td>0</td>\n",
       "      <td>2</td>\n",
       "      <td>1725.55230</td>\n",
       "    </tr>\n",
       "    <tr>\n",
       "      <th>2</th>\n",
       "      <td>28</td>\n",
       "      <td>1</td>\n",
       "      <td>33.000</td>\n",
       "      <td>3</td>\n",
       "      <td>0</td>\n",
       "      <td>2</td>\n",
       "      <td>4449.46200</td>\n",
       "    </tr>\n",
       "    <tr>\n",
       "      <th>3</th>\n",
       "      <td>33</td>\n",
       "      <td>1</td>\n",
       "      <td>22.705</td>\n",
       "      <td>0</td>\n",
       "      <td>0</td>\n",
       "      <td>1</td>\n",
       "      <td>21984.47061</td>\n",
       "    </tr>\n",
       "    <tr>\n",
       "      <th>4</th>\n",
       "      <td>32</td>\n",
       "      <td>1</td>\n",
       "      <td>28.880</td>\n",
       "      <td>0</td>\n",
       "      <td>0</td>\n",
       "      <td>1</td>\n",
       "      <td>3866.85520</td>\n",
       "    </tr>\n",
       "  </tbody>\n",
       "</table>\n",
       "</div>"
      ],
      "text/plain": [
       "   age  sex     bmi  children  smoker  region      charges\n",
       "0   19    0  27.900         0       1       3  16884.92400\n",
       "1   18    1  33.770         1       0       2   1725.55230\n",
       "2   28    1  33.000         3       0       2   4449.46200\n",
       "3   33    1  22.705         0       0       1  21984.47061\n",
       "4   32    1  28.880         0       0       1   3866.85520"
      ]
     },
     "execution_count": 11,
     "metadata": {},
     "output_type": "execute_result"
    }
   ],
   "source": [
    "df.head()"
   ]
  },
  {
   "cell_type": "code",
   "execution_count": 12,
   "id": "458bd2e3",
   "metadata": {},
   "outputs": [
    {
     "data": {
      "text/html": [
       "<div>\n",
       "<style scoped>\n",
       "    .dataframe tbody tr th:only-of-type {\n",
       "        vertical-align: middle;\n",
       "    }\n",
       "\n",
       "    .dataframe tbody tr th {\n",
       "        vertical-align: top;\n",
       "    }\n",
       "\n",
       "    .dataframe thead th {\n",
       "        text-align: right;\n",
       "    }\n",
       "</style>\n",
       "<table border=\"1\" class=\"dataframe\">\n",
       "  <thead>\n",
       "    <tr style=\"text-align: right;\">\n",
       "      <th></th>\n",
       "      <th>age</th>\n",
       "      <th>sex</th>\n",
       "      <th>bmi</th>\n",
       "      <th>children</th>\n",
       "      <th>smoker</th>\n",
       "      <th>region</th>\n",
       "    </tr>\n",
       "  </thead>\n",
       "  <tbody>\n",
       "    <tr>\n",
       "      <th>0</th>\n",
       "      <td>19</td>\n",
       "      <td>0</td>\n",
       "      <td>27.900</td>\n",
       "      <td>0</td>\n",
       "      <td>1</td>\n",
       "      <td>3</td>\n",
       "    </tr>\n",
       "    <tr>\n",
       "      <th>1</th>\n",
       "      <td>18</td>\n",
       "      <td>1</td>\n",
       "      <td>33.770</td>\n",
       "      <td>1</td>\n",
       "      <td>0</td>\n",
       "      <td>2</td>\n",
       "    </tr>\n",
       "    <tr>\n",
       "      <th>2</th>\n",
       "      <td>28</td>\n",
       "      <td>1</td>\n",
       "      <td>33.000</td>\n",
       "      <td>3</td>\n",
       "      <td>0</td>\n",
       "      <td>2</td>\n",
       "    </tr>\n",
       "    <tr>\n",
       "      <th>3</th>\n",
       "      <td>33</td>\n",
       "      <td>1</td>\n",
       "      <td>22.705</td>\n",
       "      <td>0</td>\n",
       "      <td>0</td>\n",
       "      <td>1</td>\n",
       "    </tr>\n",
       "    <tr>\n",
       "      <th>4</th>\n",
       "      <td>32</td>\n",
       "      <td>1</td>\n",
       "      <td>28.880</td>\n",
       "      <td>0</td>\n",
       "      <td>0</td>\n",
       "      <td>1</td>\n",
       "    </tr>\n",
       "  </tbody>\n",
       "</table>\n",
       "</div>"
      ],
      "text/plain": [
       "   age  sex     bmi  children  smoker  region\n",
       "0   19    0  27.900         0       1       3\n",
       "1   18    1  33.770         1       0       2\n",
       "2   28    1  33.000         3       0       2\n",
       "3   33    1  22.705         0       0       1\n",
       "4   32    1  28.880         0       0       1"
      ]
     },
     "execution_count": 12,
     "metadata": {},
     "output_type": "execute_result"
    }
   ],
   "source": [
    "#x, y seperate\n",
    "x = df.drop(['charges'], axis = 1)\n",
    "x.head()"
   ]
  },
  {
   "cell_type": "code",
   "execution_count": 13,
   "id": "b55e8453",
   "metadata": {},
   "outputs": [
    {
     "data": {
      "text/plain": [
       "0    16884.92400\n",
       "1     1725.55230\n",
       "2     4449.46200\n",
       "3    21984.47061\n",
       "4     3866.85520\n",
       "Name: charges, dtype: float64"
      ]
     },
     "execution_count": 13,
     "metadata": {},
     "output_type": "execute_result"
    }
   ],
   "source": [
    "y = df['charges']\n",
    "y.head()"
   ]
  },
  {
   "cell_type": "markdown",
   "id": "c9a8bef8",
   "metadata": {},
   "source": [
    "# Multiple Linear Regression"
   ]
  },
  {
   "cell_type": "code",
   "execution_count": 14,
   "id": "b8305796",
   "metadata": {},
   "outputs": [],
   "source": [
    "from sklearn.model_selection import train_test_split as tts\n",
    "xtrain, xtest, ytrain, ytest = tts(x,y, test_size=.30)"
   ]
  },
  {
   "cell_type": "code",
   "execution_count": 15,
   "id": "bbf630eb",
   "metadata": {},
   "outputs": [],
   "source": [
    "from sklearn.linear_model import LinearRegression\n",
    "reg = LinearRegression().fit(xtrain, ytrain)"
   ]
  },
  {
   "cell_type": "code",
   "execution_count": 16,
   "id": "85d23765",
   "metadata": {},
   "outputs": [
    {
     "name": "stdout",
     "output_type": "stream",
     "text": [
      "[  252.78131686  -173.27736763   341.14875679   428.54731089\n",
      " 23515.43827642  -509.57286646] -11593.167552013678\n"
     ]
    }
   ],
   "source": [
    "m = reg.coef_\n",
    "c = reg.intercept_\n",
    "print(m,c)"
   ]
  },
  {
   "cell_type": "code",
   "execution_count": 17,
   "id": "46af4472",
   "metadata": {},
   "outputs": [
    {
     "data": {
      "text/plain": [
       "array([13147.43840515,  6460.92243467, 29323.86334501,  5334.82695208,\n",
       "       12415.0135173 , 13437.70515314, 27123.70711339, 29574.25673411,\n",
       "       38091.07998245,  5940.39433319, 38106.6071137 ,   -77.44851485,\n",
       "        2437.71752838,  8503.27367105, 14329.80561721,  7329.13739322,\n",
       "        8450.69490508, 14377.89768   ,  2506.35835252, 30916.90058223,\n",
       "        3572.25871812,  7321.6110123 , 38452.18226856, 11556.11756748,\n",
       "       32266.95858097, 29553.60013632, 11827.58768169, 13155.58279268,\n",
       "       10668.88449148, 14652.47286962,  7276.40790318,  7004.50745473,\n",
       "        -305.71722141,  4296.19183535,  7409.0680908 ,  1875.84960146,\n",
       "       11879.42246888,  5981.30738115,  5050.08456321, 35383.72270469,\n",
       "       14886.20070014,  6437.28108068,  8306.43808971,  5555.75706165,\n",
       "        5282.81674467,  7831.37698101, 13115.9147882 ,  9250.79306306,\n",
       "        8178.63661173,  4229.42005157, 11227.05778572,  5741.40134532,\n",
       "       36751.99672776,  9013.27328586, 12369.6243322 ,  5607.13304345,\n",
       "        5705.6127829 , 17440.03038157, 33148.05586863,  7873.53160541,\n",
       "       15191.2948031 , 34657.18553796, 10213.62282522, 13650.52120246,\n",
       "        8655.68511965, 11363.35786412, 34318.69584194,  5881.67284236,\n",
       "        8334.27908609, 30511.73247895,  4108.01990991, 32475.53220717,\n",
       "       14047.93819258,  3990.2684878 , 16310.5994139 , 11698.05739415,\n",
       "        8897.05259739,  6698.36807518, 10369.226306  , 10357.08592738,\n",
       "       39114.07107212, 31282.27515774,  6580.56718321,  4432.75608843,\n",
       "        7397.9390368 , 13947.11517189, 15555.25234315,  7249.90604486,\n",
       "       11079.27441398,  7810.62991331, 13404.13592808,  9716.49490557,\n",
       "       14184.37287063, 11974.31703782,   988.15942801, 10659.16551459,\n",
       "       33352.73448875, 11654.06377995,  2046.8189452 , 10944.96166686,\n",
       "       15735.06747374, 10219.20589306, 12756.90809685,  6836.87872742,\n",
       "        5765.63272726, 35156.20696351, 28024.3929938 ,  5316.82545307,\n",
       "        8936.34289151,  2799.70535125,  3452.79801729,  5346.12238874,\n",
       "       10136.37889788,  8347.76218865, 16178.84606975, 11723.08925098,\n",
       "       11968.56215746, 27926.35947025, 27499.42943971,  6839.36023299,\n",
       "       30493.72181385,  8988.32989246,  3103.43594036, 31297.29007355,\n",
       "       37310.96020027, 38530.9316948 ,   240.20062541, 12173.6125874 ,\n",
       "        7300.78602538,  9149.07189432,   626.62870259,  4445.61361468,\n",
       "        7152.00551974,  8250.58786569,  8844.41688643, 12808.1051453 ,\n",
       "        4499.08496547, 10690.49934115,  8657.45299554, 10338.3404496 ,\n",
       "       33728.88928913, 12795.95764585, 10405.51627508,  7816.79041477,\n",
       "        6665.95894329, 15395.11972041,  2182.94721108, 16498.58183997,\n",
       "        6840.83940055, 35315.96775462, 33183.10074812, 31616.86844773,\n",
       "        7776.37350145,   520.93439975,  9711.43435464, 16610.4259885 ,\n",
       "        4864.67044163, 39939.52711968,  3300.32979852, 23054.61368706,\n",
       "        9563.14793355,  9380.85129739, 15189.084319  , 10424.46703935,\n",
       "       11574.02706811, 16101.31192743, 32710.66479917, 25217.7324577 ,\n",
       "       11483.29141072,  5529.7050684 ,  9391.3957072 ,  3940.16073412,\n",
       "        9081.71202114, 37855.61649093, 29116.83060842,  2622.97047139,\n",
       "        8577.28112096, 30617.20338138,  8699.21434074, 13982.89846693,\n",
       "        1621.39599298,  6923.43233955, 24887.47701261, 14588.86275193,\n",
       "       12508.27857071, 36842.23629413, 15054.86012506, 10285.76880447,\n",
       "         416.70347737, 30573.80682139,  5497.48351916,  5737.40730977,\n",
       "        6765.38977018, 15749.89322749,  7491.1830527 ,  9742.56097797,\n",
       "       12928.40691584, 11323.72725681, 14487.44619016,  8334.15514221,\n",
       "       14097.75018987,  2409.08139723, 15810.51527712, 14370.08099436,\n",
       "       31707.70673745, 36814.53365812,  9664.93113984,  7682.64252183,\n",
       "       13137.44115262, 10511.74719098, 28332.39033088,  4768.86553308,\n",
       "        2315.11126889,  5350.35919769,  8022.44855469, 28873.47771613,\n",
       "       27413.38586172,  7999.27675159, 15884.24136531,  9132.02353283,\n",
       "        4502.64193423,  5675.53480861, 12219.18764238, 11467.03455933,\n",
       "        9828.67391561, 34031.29648849, 12248.68502421,  5367.51230953,\n",
       "        3701.22202653, 34717.88037064, 11721.33748254, 11340.92792178,\n",
       "       13922.08329324, 10299.07806623,  4619.39410442, 11877.5145465 ,\n",
       "        4366.51175162,  5391.50082833,  1573.22601097, 39856.53376367,\n",
       "       12378.49336431,  1673.43102505, 29673.25563036, 15696.60954908,\n",
       "       12172.02556159, 33447.14569683, 10473.55993347, 17082.56457983,\n",
       "        8025.98398613,  6957.75802132,  1540.15794035,  7241.11173435,\n",
       "       15101.01079149, 17290.88838456,  5802.292837  ,  9000.1462448 ,\n",
       "        5469.30256872, 26284.28804762,  8031.78498088,  3752.54310859,\n",
       "        8375.50028328, 36749.55254662, 15923.58676045,  5760.99892468,\n",
       "        2988.15748606, 16833.23011942, 35347.76397244,  3647.12014756,\n",
       "        2923.66683443,   584.57128065, 27274.1136166 , 14759.25808543,\n",
       "       33144.05119912, 11415.0703984 ,  3548.14098343, 12240.09054851,\n",
       "       10762.98209864,  6853.55703797, 11408.0702951 ,  9313.59396681,\n",
       "        2022.70287965,  4194.67615438,  6697.02357519, 30518.80843438,\n",
       "       13961.14358775,  3514.03131184,  5211.50322945,   885.90175775,\n",
       "          49.40872249,  5110.32061231, 29846.26537812, 10391.87190422,\n",
       "       34930.68760817, 12328.55902438, 27739.4806194 , 32978.39185166,\n",
       "       26010.39470467, 11220.10179035, 14608.88512411, 31696.24644661,\n",
       "       13545.16347659,  2773.20349293,  6446.65483129, 34476.00153156,\n",
       "        8824.33774408, 30934.75340243, 38386.95496027, 10399.10437273,\n",
       "       27103.16742839,  6711.98929052,  9863.6707931 , 27272.76929627,\n",
       "        6150.53919809, 37815.59805609, 12709.12598117, 35835.71135528,\n",
       "        6055.79330797,  3314.7408548 , 15634.60060429, 30668.95833262,\n",
       "        8123.59929908,   440.87964675,  2875.79272037,  8536.78971182,\n",
       "        6643.2599132 ,  5943.32038551,  6565.12691417,  1991.76746365,\n",
       "       13568.83659661,  7487.3286196 , 10237.20739207, 13739.83270356,\n",
       "       12838.91830839,  5024.26637856,  7928.14568285,  4591.9515186 ,\n",
       "        4955.79031886, 28596.91352608, 18002.21733195, -1430.53923299,\n",
       "        6835.83712646, 10922.94473102, 28757.04614882, 14548.21011329,\n",
       "       12342.1075464 ,  1522.61707373, 10152.91558253, 11497.79816282,\n",
       "       33717.8789531 , 15779.02193652, 14176.55618499,  4530.81946127,\n",
       "       14033.89727697, 10625.33222641,  8252.46711296, 14156.12627496,\n",
       "       37434.20577791, 29276.96323115, 30741.91388493,  4916.33868368,\n",
       "        7547.90646674, 27957.56768841, 13205.76493064,  6621.10495432,\n",
       "        8162.79612696, 10104.14326947, 14962.36562934, 10919.14348221,\n",
       "         633.72078245,  4305.28744368,  4254.32400254,  9025.63143837,\n",
       "       10852.18902885, 27442.59070927,  6866.02160535, 13734.98649367,\n",
       "        3230.59096238,  9971.36276265, 11135.32830628, 31571.86526316,\n",
       "       17202.11530171,  9418.12977288, 13966.59038679,  7322.50197892,\n",
       "        3510.22474738, 31834.85112551,  2917.17509613, 10085.70781155,\n",
       "       15370.86204594,  2072.23317789,  4239.45776554, 33140.96549671,\n",
       "       14293.06567152,  4509.08210646, 23861.61650011, 12972.35970946,\n",
       "       11825.3839811 , 13335.40312737, 25790.87291334, -1509.89249695,\n",
       "       13384.97778112, 34956.74302481])"
      ]
     },
     "execution_count": 17,
     "metadata": {},
     "output_type": "execute_result"
    }
   ],
   "source": [
    "ypred = reg.predict(xtest)\n",
    "ypred"
   ]
  },
  {
   "cell_type": "code",
   "execution_count": 18,
   "id": "764e9480",
   "metadata": {},
   "outputs": [],
   "source": [
    "df_predct = pd.DataFrame({'actuals':ytest, 'prediction':ypred, 'resid': ytest - ypred})"
   ]
  },
  {
   "cell_type": "code",
   "execution_count": 19,
   "id": "3fc43446",
   "metadata": {},
   "outputs": [
    {
     "data": {
      "text/html": [
       "<div>\n",
       "<style scoped>\n",
       "    .dataframe tbody tr th:only-of-type {\n",
       "        vertical-align: middle;\n",
       "    }\n",
       "\n",
       "    .dataframe tbody tr th {\n",
       "        vertical-align: top;\n",
       "    }\n",
       "\n",
       "    .dataframe thead th {\n",
       "        text-align: right;\n",
       "    }\n",
       "</style>\n",
       "<table border=\"1\" class=\"dataframe\">\n",
       "  <thead>\n",
       "    <tr style=\"text-align: right;\">\n",
       "      <th></th>\n",
       "      <th>actuals</th>\n",
       "      <th>prediction</th>\n",
       "      <th>resid</th>\n",
       "    </tr>\n",
       "  </thead>\n",
       "  <tbody>\n",
       "    <tr>\n",
       "      <th>221</th>\n",
       "      <td>10564.88450</td>\n",
       "      <td>13147.438405</td>\n",
       "      <td>-2582.553905</td>\n",
       "    </tr>\n",
       "    <tr>\n",
       "      <th>785</th>\n",
       "      <td>6414.17800</td>\n",
       "      <td>6460.922435</td>\n",
       "      <td>-46.744435</td>\n",
       "    </tr>\n",
       "    <tr>\n",
       "      <th>1011</th>\n",
       "      <td>18767.73770</td>\n",
       "      <td>29323.863345</td>\n",
       "      <td>-10556.125645</td>\n",
       "    </tr>\n",
       "    <tr>\n",
       "      <th>749</th>\n",
       "      <td>3062.50825</td>\n",
       "      <td>5334.826952</td>\n",
       "      <td>-2272.318702</td>\n",
       "    </tr>\n",
       "    <tr>\n",
       "      <th>403</th>\n",
       "      <td>10269.46000</td>\n",
       "      <td>12415.013517</td>\n",
       "      <td>-2145.553517</td>\n",
       "    </tr>\n",
       "    <tr>\n",
       "      <th>...</th>\n",
       "      <td>...</td>\n",
       "      <td>...</td>\n",
       "      <td>...</td>\n",
       "    </tr>\n",
       "    <tr>\n",
       "      <th>1145</th>\n",
       "      <td>11289.10925</td>\n",
       "      <td>13335.403127</td>\n",
       "      <td>-2046.293877</td>\n",
       "    </tr>\n",
       "    <tr>\n",
       "      <th>857</th>\n",
       "      <td>15817.98570</td>\n",
       "      <td>25790.872913</td>\n",
       "      <td>-9972.887213</td>\n",
       "    </tr>\n",
       "    <tr>\n",
       "      <th>410</th>\n",
       "      <td>1621.34020</td>\n",
       "      <td>-1509.892497</td>\n",
       "      <td>3131.232697</td>\n",
       "    </tr>\n",
       "    <tr>\n",
       "      <th>698</th>\n",
       "      <td>10976.24575</td>\n",
       "      <td>13384.977781</td>\n",
       "      <td>-2408.732031</td>\n",
       "    </tr>\n",
       "    <tr>\n",
       "      <th>1090</th>\n",
       "      <td>41676.08110</td>\n",
       "      <td>34956.743025</td>\n",
       "      <td>6719.338075</td>\n",
       "    </tr>\n",
       "  </tbody>\n",
       "</table>\n",
       "<p>402 rows × 3 columns</p>\n",
       "</div>"
      ],
      "text/plain": [
       "          actuals    prediction         resid\n",
       "221   10564.88450  13147.438405  -2582.553905\n",
       "785    6414.17800   6460.922435    -46.744435\n",
       "1011  18767.73770  29323.863345 -10556.125645\n",
       "749    3062.50825   5334.826952  -2272.318702\n",
       "403   10269.46000  12415.013517  -2145.553517\n",
       "...           ...           ...           ...\n",
       "1145  11289.10925  13335.403127  -2046.293877\n",
       "857   15817.98570  25790.872913  -9972.887213\n",
       "410    1621.34020  -1509.892497   3131.232697\n",
       "698   10976.24575  13384.977781  -2408.732031\n",
       "1090  41676.08110  34956.743025   6719.338075\n",
       "\n",
       "[402 rows x 3 columns]"
      ]
     },
     "execution_count": 19,
     "metadata": {},
     "output_type": "execute_result"
    }
   ],
   "source": [
    "df_predct"
   ]
  },
  {
   "cell_type": "markdown",
   "id": "1f0c7815",
   "metadata": {},
   "source": [
    "# model performance\n"
   ]
  },
  {
   "cell_type": "code",
   "execution_count": 20,
   "id": "fd191601",
   "metadata": {},
   "outputs": [],
   "source": [
    "from sklearn import metrics\n",
    "from sklearn.metrics import mean_squared_error, r2_score, mean_absolute_error \n",
    "mse= mean_squared_error(ytest,ypred) \n",
    "r2_MLR = r2_score(ytest, ypred) \n",
    "mae= mean_absolute_error(ytest, ypred)"
   ]
  },
  {
   "cell_type": "code",
   "execution_count": 21,
   "id": "c2fc9e5d",
   "metadata": {},
   "outputs": [
    {
     "data": {
      "text/plain": [
       "0.7481440796408582"
      ]
     },
     "execution_count": 21,
     "metadata": {},
     "output_type": "execute_result"
    }
   ],
   "source": [
    "r2_MLR"
   ]
  },
  {
   "cell_type": "code",
   "execution_count": 22,
   "id": "3bda6b9a",
   "metadata": {},
   "outputs": [
    {
     "data": {
      "text/plain": [
       "39505857.71277628"
      ]
     },
     "execution_count": 22,
     "metadata": {},
     "output_type": "execute_result"
    }
   ],
   "source": [
    "mse"
   ]
  },
  {
   "cell_type": "code",
   "execution_count": 23,
   "id": "a0bc6fd7",
   "metadata": {},
   "outputs": [
    {
     "data": {
      "text/plain": [
       "4438.174695138714"
      ]
     },
     "execution_count": 23,
     "metadata": {},
     "output_type": "execute_result"
    }
   ],
   "source": [
    "mae"
   ]
  },
  {
   "cell_type": "markdown",
   "id": "3de09a9c",
   "metadata": {},
   "source": [
    "# KNN Regressor"
   ]
  },
  {
   "cell_type": "code",
   "execution_count": 24,
   "id": "0fef22df",
   "metadata": {},
   "outputs": [
    {
     "data": {
      "text/html": [
       "<style>#sk-container-id-1 {color: black;background-color: white;}#sk-container-id-1 pre{padding: 0;}#sk-container-id-1 div.sk-toggleable {background-color: white;}#sk-container-id-1 label.sk-toggleable__label {cursor: pointer;display: block;width: 100%;margin-bottom: 0;padding: 0.3em;box-sizing: border-box;text-align: center;}#sk-container-id-1 label.sk-toggleable__label-arrow:before {content: \"▸\";float: left;margin-right: 0.25em;color: #696969;}#sk-container-id-1 label.sk-toggleable__label-arrow:hover:before {color: black;}#sk-container-id-1 div.sk-estimator:hover label.sk-toggleable__label-arrow:before {color: black;}#sk-container-id-1 div.sk-toggleable__content {max-height: 0;max-width: 0;overflow: hidden;text-align: left;background-color: #f0f8ff;}#sk-container-id-1 div.sk-toggleable__content pre {margin: 0.2em;color: black;border-radius: 0.25em;background-color: #f0f8ff;}#sk-container-id-1 input.sk-toggleable__control:checked~div.sk-toggleable__content {max-height: 200px;max-width: 100%;overflow: auto;}#sk-container-id-1 input.sk-toggleable__control:checked~label.sk-toggleable__label-arrow:before {content: \"▾\";}#sk-container-id-1 div.sk-estimator input.sk-toggleable__control:checked~label.sk-toggleable__label {background-color: #d4ebff;}#sk-container-id-1 div.sk-label input.sk-toggleable__control:checked~label.sk-toggleable__label {background-color: #d4ebff;}#sk-container-id-1 input.sk-hidden--visually {border: 0;clip: rect(1px 1px 1px 1px);clip: rect(1px, 1px, 1px, 1px);height: 1px;margin: -1px;overflow: hidden;padding: 0;position: absolute;width: 1px;}#sk-container-id-1 div.sk-estimator {font-family: monospace;background-color: #f0f8ff;border: 1px dotted black;border-radius: 0.25em;box-sizing: border-box;margin-bottom: 0.5em;}#sk-container-id-1 div.sk-estimator:hover {background-color: #d4ebff;}#sk-container-id-1 div.sk-parallel-item::after {content: \"\";width: 100%;border-bottom: 1px solid gray;flex-grow: 1;}#sk-container-id-1 div.sk-label:hover label.sk-toggleable__label {background-color: #d4ebff;}#sk-container-id-1 div.sk-serial::before {content: \"\";position: absolute;border-left: 1px solid gray;box-sizing: border-box;top: 0;bottom: 0;left: 50%;z-index: 0;}#sk-container-id-1 div.sk-serial {display: flex;flex-direction: column;align-items: center;background-color: white;padding-right: 0.2em;padding-left: 0.2em;position: relative;}#sk-container-id-1 div.sk-item {position: relative;z-index: 1;}#sk-container-id-1 div.sk-parallel {display: flex;align-items: stretch;justify-content: center;background-color: white;position: relative;}#sk-container-id-1 div.sk-item::before, #sk-container-id-1 div.sk-parallel-item::before {content: \"\";position: absolute;border-left: 1px solid gray;box-sizing: border-box;top: 0;bottom: 0;left: 50%;z-index: -1;}#sk-container-id-1 div.sk-parallel-item {display: flex;flex-direction: column;z-index: 1;position: relative;background-color: white;}#sk-container-id-1 div.sk-parallel-item:first-child::after {align-self: flex-end;width: 50%;}#sk-container-id-1 div.sk-parallel-item:last-child::after {align-self: flex-start;width: 50%;}#sk-container-id-1 div.sk-parallel-item:only-child::after {width: 0;}#sk-container-id-1 div.sk-dashed-wrapped {border: 1px dashed gray;margin: 0 0.4em 0.5em 0.4em;box-sizing: border-box;padding-bottom: 0.4em;background-color: white;}#sk-container-id-1 div.sk-label label {font-family: monospace;font-weight: bold;display: inline-block;line-height: 1.2em;}#sk-container-id-1 div.sk-label-container {text-align: center;}#sk-container-id-1 div.sk-container {/* jupyter's `normalize.less` sets `[hidden] { display: none; }` but bootstrap.min.css set `[hidden] { display: none !important; }` so we also need the `!important` here to be able to override the default hidden behavior on the sphinx rendered scikit-learn.org. See: https://github.com/scikit-learn/scikit-learn/issues/21755 */display: inline-block !important;position: relative;}#sk-container-id-1 div.sk-text-repr-fallback {display: none;}</style><div id=\"sk-container-id-1\" class=\"sk-top-container\"><div class=\"sk-text-repr-fallback\"><pre>KNeighborsRegressor()</pre><b>In a Jupyter environment, please rerun this cell to show the HTML representation or trust the notebook. <br />On GitHub, the HTML representation is unable to render, please try loading this page with nbviewer.org.</b></div><div class=\"sk-container\" hidden><div class=\"sk-item\"><div class=\"sk-estimator sk-toggleable\"><input class=\"sk-toggleable__control sk-hidden--visually\" id=\"sk-estimator-id-1\" type=\"checkbox\" checked><label for=\"sk-estimator-id-1\" class=\"sk-toggleable__label sk-toggleable__label-arrow\">KNeighborsRegressor</label><div class=\"sk-toggleable__content\"><pre>KNeighborsRegressor()</pre></div></div></div></div></div>"
      ],
      "text/plain": [
       "KNeighborsRegressor()"
      ]
     },
     "execution_count": 24,
     "metadata": {},
     "output_type": "execute_result"
    }
   ],
   "source": [
    "from sklearn.neighbors import KNeighborsRegressor\n",
    "neigh = KNeighborsRegressor(n_neighbors=5)\n",
    "neigh.fit(xtrain, ytrain)\n"
   ]
  },
  {
   "cell_type": "code",
   "execution_count": 25,
   "id": "4b0c19e1",
   "metadata": {},
   "outputs": [
    {
     "data": {
      "text/plain": [
       "array([17149.98228  ,  5751.57091  , 12632.36848  , 16015.57002  ,\n",
       "       13297.835778 , 13460.394682 , 15453.287816 , 15817.24558  ,\n",
       "       16551.5838   , 10391.84394  , 27798.65241  ,  5144.66135  ,\n",
       "        7655.49302  ,  8878.76002  , 19610.25652  ,  9843.08404  ,\n",
       "       10458.09483  , 12424.16692  , 11065.6519518, 12165.35803  ,\n",
       "       15212.51109  ,  9197.74547  , 22502.302996 , 11385.1367   ,\n",
       "       14729.610006 ,  9656.73882  , 12014.63949  , 15537.90151  ,\n",
       "       16471.985336 , 27282.76579  , 16134.637092 ,  6501.206    ,\n",
       "        8053.341226 ,  3679.931736 , 16603.24425  ,  7362.37716  ,\n",
       "       12447.4272   ,  2846.42081  ,  4137.942956 , 10080.4518   ,\n",
       "       20101.11729  , 16586.15272  ,  8830.91045  , 11091.122888 ,\n",
       "        7666.95392  , 15220.2823   , 19785.644604 , 21414.331624 ,\n",
       "       10501.67606  , 11673.25538  , 17133.140036 ,  2276.03038  ,\n",
       "       23060.38527  , 15344.46995  ,  9488.3942   , 13829.47013  ,\n",
       "        7871.400878 , 14185.12936  ,  8371.74474  ,  9505.45051  ,\n",
       "       24064.62099  , 17672.71288  , 14254.28625  , 17246.40472  ,\n",
       "        6550.21097  , 15719.94439  , 16470.23912  ,  9055.3391   ,\n",
       "        5292.49382  , 15470.24634  ,  3708.50479  , 13167.80454  ,\n",
       "       13966.07793  ,  6939.10123  , 17375.19836  , 11500.900966 ,\n",
       "       11249.77344  ,  3955.21811  , 13888.451796 , 14446.28554  ,\n",
       "       25047.28961  , 10939.6457   ,  7401.67965  ,  6048.33434  ,\n",
       "       13378.320354 , 13650.66788  , 17595.50354  ,  6052.95702  ,\n",
       "       18829.24391  , 11032.75714  , 27486.975378 ,  8474.60594  ,\n",
       "       12103.21413  , 16989.305134 ,  9836.154394 , 20556.356616 ,\n",
       "       15387.451076 ,  6342.635474 ,  5786.27759  , 14873.29626  ,\n",
       "       17637.23938  , 12391.49625  , 17003.50645  , 13230.498796 ,\n",
       "       12562.18377  , 16842.184274 , 10702.1678   , 12904.646112 ,\n",
       "        8233.58334  ,  1626.5264   ,  5580.179194 ,  4179.70947  ,\n",
       "       11782.22832  ,  9732.05692  , 21007.861282 , 13343.3224   ,\n",
       "       18170.184106 ,  6988.94567  , 12381.423    , 36229.949754 ,\n",
       "        2762.46599  ,  5771.414894 ,  8250.02661  , 18043.10866  ,\n",
       "       22881.81522  , 33881.05753  ,  4256.58783  ,  5946.995434 ,\n",
       "       13262.734164 , 16558.419392 ,  4179.92982  ,  9341.36651  ,\n",
       "        8832.72325  , 12082.25992  ,  5005.15916  , 19354.095574 ,\n",
       "        6296.67798  , 10269.776628 , 16559.862378 , 18713.012724 ,\n",
       "       16784.575648 , 19153.881678 , 11644.36368  , 10148.26154  ,\n",
       "        3955.21811  , 23218.189176 ,  3204.51496  , 18715.74739  ,\n",
       "        4409.04382  , 13861.460394 ,  7971.411184 , 13251.46976  ,\n",
       "       12369.24547  ,  3975.760056 , 20085.07766  , 23218.189176 ,\n",
       "        9647.8928   , 21391.611108 ,  4628.349264 ,  1988.8736   ,\n",
       "        6818.64332  , 13497.94628  , 17277.370726 , 15470.589082 ,\n",
       "       15448.23782  , 25519.871972 , 13122.18058  ,  8533.71067  ,\n",
       "       12174.49626  ,  4773.06133  , 12460.3131   ,  9064.71006  ,\n",
       "       11976.629558 , 23136.97698  ,  7241.00686  ,  4701.119512 ,\n",
       "       11919.92603  ,  9630.90442  , 12525.576768 , 15801.28383  ,\n",
       "        7858.63134  , 10792.98832  ,  1775.60021  , 24773.65804  ,\n",
       "       19125.464338 ,  5427.74616  , 22536.571198 ,  8776.14343  ,\n",
       "        4166.013686 , 15843.14063  ,  1615.07006  ,  4568.87948  ,\n",
       "        9023.3111   , 34259.7644   ,  9843.08404  ,  6152.444154 ,\n",
       "        9030.13946  , 12427.78395  , 32243.371572 ,  9497.00254  ,\n",
       "       11684.77082  ,  2536.15986  , 16507.0443   , 13545.267622 ,\n",
       "       16634.97449  , 28253.567206 , 16255.165534 ,  6271.64037  ,\n",
       "       20291.76692  , 15943.25977  ,  9153.03106  , 17776.175126 ,\n",
       "        7641.502264 , 12888.897286 ,  9256.0979   , 12859.677728 ,\n",
       "       10627.16209  ,  6678.45863  , 27431.00735  ,  8304.99812  ,\n",
       "        4141.41893  ,  6203.4429   , 16351.30628  , 18997.94805  ,\n",
       "       15223.67267  , 13168.54638  , 14454.422456 , 10553.64747  ,\n",
       "        8344.44288  , 12997.65047  , 18997.94805  , 16841.758294 ,\n",
       "       27196.18633  , 18439.68621  , 15091.26906  , 13746.935484 ,\n",
       "        7230.02786  ,  7012.56934  ,  7532.867918 , 29564.924988 ,\n",
       "       19972.35603  ,  5027.08717  ,  9598.87775  , 27431.00735  ,\n",
       "        8850.25494  , 24973.016028 ,  9734.637054 , 20918.84448  ,\n",
       "       13491.389214 , 10089.17724  ,  4857.2688   ,  6787.37544  ,\n",
       "       24163.3927   , 17637.23938  , 10657.996    , 14971.4586   ,\n",
       "       11150.56299  , 15273.522828 , 11230.89114  , 13152.140748 ,\n",
       "        7239.68008  , 16290.32902  , 20247.76656  , 12698.392866 ,\n",
       "        9302.15908  , 21054.59703  , 22046.94636  ,  5614.41906  ,\n",
       "        5069.80037  ,  1823.32512  ,  7495.6264   , 17739.78726  ,\n",
       "       12238.0519   , 12150.559376 ,  4841.676644 , 10009.07248  ,\n",
       "        7588.77961  ,  4753.26479  , 18463.991512 , 18696.1259   ,\n",
       "       11347.60479  ,  6879.18723  ,  5869.86091  , 33372.223568 ,\n",
       "       18585.88033  , 15670.624924 ,  2841.63701  ,  1672.61698  ,\n",
       "        8234.983026 ,  8869.06327  , 26632.836708 , 16154.781094 ,\n",
       "       11170.1483   , 22880.992122 , 15239.820506 , 13508.5967   ,\n",
       "        8545.96531  , 10490.3016   , 17550.196358 , 16207.220118 ,\n",
       "       12243.21306  ,  6029.31212  ,  8217.60013  , 20302.307238 ,\n",
       "       17614.53078  , 10868.35216  , 23708.42862  , 14078.89935  ,\n",
       "       11752.58481  ,  6629.733018 , 16528.578028 ,  8191.18491  ,\n",
       "       10022.81267  , 23351.43324  , 21249.39192  , 18903.991808 ,\n",
       "       10689.031132 ,  6408.76804  , 27692.88257  , 12163.75341  ,\n",
       "       13744.013664 , 13040.18177  ,  2166.10821  , 23227.947378 ,\n",
       "        3955.21811  ,  4309.61116  ,  8235.39351  ,  9198.261728 ,\n",
       "       17012.59982  ,  4032.27012  ,  7152.87721  , 15283.79719  ,\n",
       "       10739.445728 ,  6647.73679  , 10489.66107  ,  6939.10123  ,\n",
       "        3985.027286 ,  7097.41861  , 13834.26237  ,  3978.4204   ,\n",
       "        7540.85794  , 15293.95506  ,  7601.938564 , 12371.27059  ,\n",
       "       17192.279602 ,  2176.20287  ,  8063.04848  , 16743.144574 ,\n",
       "       12785.795882 , 18949.09637  , 13105.182782 ,  9998.8939   ,\n",
       "       18659.11071  , 20990.70184  ,  6132.4751   , 25091.590152 ,\n",
       "       34518.195754 ,  6646.080148 , 10860.65015  ,  8058.44395  ,\n",
       "       11044.41261  ,  3594.32691  , 17581.24919  ,  9173.21541  ,\n",
       "       10106.28791  , 14885.26366  , 18445.309462 , 18337.924896 ,\n",
       "        5557.76371  ,  3895.08286  ,  3661.271566 , 10396.45008  ,\n",
       "       16488.934274 , 13397.247804 ,  7636.95396  , 18376.65785  ,\n",
       "       13163.8862738,  9578.646694 , 13906.585734 , 18964.193    ,\n",
       "       13621.38442  , 16193.519446 , 11962.04931  ,  9598.01807  ,\n",
       "        3323.50765  , 11637.40237  ,  2295.50076  , 16654.808212 ,\n",
       "       13866.097548 ,  4187.910334 , 11374.225412 , 18393.31088  ,\n",
       "       12501.197262 ,  8554.77264  ,  4179.92982  , 15753.81469  ,\n",
       "        9684.18451  , 17246.40472  ,  7305.640338 ,  1988.8736   ,\n",
       "       19803.418784 , 21966.20356  ])"
      ]
     },
     "execution_count": 25,
     "metadata": {},
     "output_type": "execute_result"
    }
   ],
   "source": [
    "K_predct = neigh.predict(xtest)\n",
    "K_predct\n"
   ]
  },
  {
   "cell_type": "code",
   "execution_count": 26,
   "id": "509a2e38",
   "metadata": {},
   "outputs": [],
   "source": [
    "mse1= mean_squared_error(ytest,K_predct)\n",
    "r2knn_1 = r2_score(ytest, K_predct)\n",
    "mae1= mean_absolute_error(ytest, K_predct)\n"
   ]
  },
  {
   "cell_type": "code",
   "execution_count": 27,
   "id": "32048e76",
   "metadata": {},
   "outputs": [
    {
     "data": {
      "text/plain": [
       "0.13901711989052334"
      ]
     },
     "execution_count": 27,
     "metadata": {},
     "output_type": "execute_result"
    }
   ],
   "source": [
    "r2knn_1"
   ]
  },
  {
   "cell_type": "code",
   "execution_count": 28,
   "id": "0250c62b",
   "metadata": {},
   "outputs": [
    {
     "data": {
      "text/plain": [
       "135052879.06767553"
      ]
     },
     "execution_count": 28,
     "metadata": {},
     "output_type": "execute_result"
    }
   ],
   "source": [
    "mse1"
   ]
  },
  {
   "cell_type": "code",
   "execution_count": 29,
   "id": "cf6346bb",
   "metadata": {},
   "outputs": [
    {
     "data": {
      "text/plain": [
       "8281.736305118407"
      ]
     },
     "execution_count": 29,
     "metadata": {},
     "output_type": "execute_result"
    }
   ],
   "source": [
    "mae1"
   ]
  },
  {
   "cell_type": "markdown",
   "id": "01836b93",
   "metadata": {},
   "source": [
    "# evoluation of knn accuracy"
   ]
  },
  {
   "cell_type": "code",
   "execution_count": 30,
   "id": "5a6b98c8",
   "metadata": {},
   "outputs": [],
   "source": [
    "scores = []\n",
    "neighbors = range(1,51)\n",
    "\n",
    "for k in neighbors:\n",
    "    knn = KNeighborsRegressor(n_neighbors = k)\n",
    "    knn.fit(xtrain, ytrain)\n",
    "    ypred_1 = knn.predict(xtest)\n",
    "    scores.append(metrics.r2_score(ytest,ypred_1))\n"
   ]
  },
  {
   "cell_type": "code",
   "execution_count": 31,
   "id": "2e0c32df",
   "metadata": {},
   "outputs": [
    {
     "data": {
      "text/plain": [
       "Text(0, 0.5, 'Testing Accoracy')"
      ]
     },
     "execution_count": 31,
     "metadata": {},
     "output_type": "execute_result"
    },
    {
     "data": {
      "image/png": "[encoded data removed]",
      "text/plain": [
       "<Figure size 1440x576 with 1 Axes>"
      ]
     },
     "metadata": {
      "needs_background": "light"
     },
     "output_type": "display_data"
    }
   ],
   "source": [
    "plt.figure(figsize= (20,8)) \n",
    "plt.plot(neighbors, scores)\n",
    "plt.xlabel('value of k for knn')\n",
    "plt.ylabel('Testing Accoracy')\n"
   ]
  },
  {
   "cell_type": "code",
   "execution_count": 32,
   "id": "a5257ae9",
   "metadata": {},
   "outputs": [
    {
     "data": {
      "text/html": [
       "<style>#sk-container-id-2 {color: black;background-color: white;}#sk-container-id-2 pre{padding: 0;}#sk-container-id-2 div.sk-toggleable {background-color: white;}#sk-container-id-2 label.sk-toggleable__label {cursor: pointer;display: block;width: 100%;margin-bottom: 0;padding: 0.3em;box-sizing: border-box;text-align: center;}#sk-container-id-2 label.sk-toggleable__label-arrow:before {content: \"▸\";float: left;margin-right: 0.25em;color: #696969;}#sk-container-id-2 label.sk-toggleable__label-arrow:hover:before {color: black;}#sk-container-id-2 div.sk-estimator:hover label.sk-toggleable__label-arrow:before {color: black;}#sk-container-id-2 div.sk-toggleable__content {max-height: 0;max-width: 0;overflow: hidden;text-align: left;background-color: #f0f8ff;}#sk-container-id-2 div.sk-toggleable__content pre {margin: 0.2em;color: black;border-radius: 0.25em;background-color: #f0f8ff;}#sk-container-id-2 input.sk-toggleable__control:checked~div.sk-toggleable__content {max-height: 200px;max-width: 100%;overflow: auto;}#sk-container-id-2 input.sk-toggleable__control:checked~label.sk-toggleable__label-arrow:before {content: \"▾\";}#sk-container-id-2 div.sk-estimator input.sk-toggleable__control:checked~label.sk-toggleable__label {background-color: #d4ebff;}#sk-container-id-2 div.sk-label input.sk-toggleable__control:checked~label.sk-toggleable__label {background-color: #d4ebff;}#sk-container-id-2 input.sk-hidden--visually {border: 0;clip: rect(1px 1px 1px 1px);clip: rect(1px, 1px, 1px, 1px);height: 1px;margin: -1px;overflow: hidden;padding: 0;position: absolute;width: 1px;}#sk-container-id-2 div.sk-estimator {font-family: monospace;background-color: #f0f8ff;border: 1px dotted black;border-radius: 0.25em;box-sizing: border-box;margin-bottom: 0.5em;}#sk-container-id-2 div.sk-estimator:hover {background-color: #d4ebff;}#sk-container-id-2 div.sk-parallel-item::after {content: \"\";width: 100%;border-bottom: 1px solid gray;flex-grow: 1;}#sk-container-id-2 div.sk-label:hover label.sk-toggleable__label {background-color: #d4ebff;}#sk-container-id-2 div.sk-serial::before {content: \"\";position: absolute;border-left: 1px solid gray;box-sizing: border-box;top: 0;bottom: 0;left: 50%;z-index: 0;}#sk-container-id-2 div.sk-serial {display: flex;flex-direction: column;align-items: center;background-color: white;padding-right: 0.2em;padding-left: 0.2em;position: relative;}#sk-container-id-2 div.sk-item {position: relative;z-index: 1;}#sk-container-id-2 div.sk-parallel {display: flex;align-items: stretch;justify-content: center;background-color: white;position: relative;}#sk-container-id-2 div.sk-item::before, #sk-container-id-2 div.sk-parallel-item::before {content: \"\";position: absolute;border-left: 1px solid gray;box-sizing: border-box;top: 0;bottom: 0;left: 50%;z-index: -1;}#sk-container-id-2 div.sk-parallel-item {display: flex;flex-direction: column;z-index: 1;position: relative;background-color: white;}#sk-container-id-2 div.sk-parallel-item:first-child::after {align-self: flex-end;width: 50%;}#sk-container-id-2 div.sk-parallel-item:last-child::after {align-self: flex-start;width: 50%;}#sk-container-id-2 div.sk-parallel-item:only-child::after {width: 0;}#sk-container-id-2 div.sk-dashed-wrapped {border: 1px dashed gray;margin: 0 0.4em 0.5em 0.4em;box-sizing: border-box;padding-bottom: 0.4em;background-color: white;}#sk-container-id-2 div.sk-label label {font-family: monospace;font-weight: bold;display: inline-block;line-height: 1.2em;}#sk-container-id-2 div.sk-label-container {text-align: center;}#sk-container-id-2 div.sk-container {/* jupyter's `normalize.less` sets `[hidden] { display: none; }` but bootstrap.min.css set `[hidden] { display: none !important; }` so we also need the `!important` here to be able to override the default hidden behavior on the sphinx rendered scikit-learn.org. See: https://github.com/scikit-learn/scikit-learn/issues/21755 */display: inline-block !important;position: relative;}#sk-container-id-2 div.sk-text-repr-fallback {display: none;}</style><div id=\"sk-container-id-2\" class=\"sk-top-container\"><div class=\"sk-text-repr-fallback\"><pre>KNeighborsRegressor(n_neighbors=12)</pre><b>In a Jupyter environment, please rerun this cell to show the HTML representation or trust the notebook. <br />On GitHub, the HTML representation is unable to render, please try loading this page with nbviewer.org.</b></div><div class=\"sk-container\" hidden><div class=\"sk-item\"><div class=\"sk-estimator sk-toggleable\"><input class=\"sk-toggleable__control sk-hidden--visually\" id=\"sk-estimator-id-2\" type=\"checkbox\" checked><label for=\"sk-estimator-id-2\" class=\"sk-toggleable__label sk-toggleable__label-arrow\">KNeighborsRegressor</label><div class=\"sk-toggleable__content\"><pre>KNeighborsRegressor(n_neighbors=12)</pre></div></div></div></div></div>"
      ],
      "text/plain": [
       "KNeighborsRegressor(n_neighbors=12)"
      ]
     },
     "execution_count": 32,
     "metadata": {},
     "output_type": "execute_result"
    }
   ],
   "source": [
    "neigh1 = KNeighborsRegressor(n_neighbors=12)\n",
    "neigh1.fit(xtrain, ytrain)\n"
   ]
  },
  {
   "cell_type": "code",
   "execution_count": 33,
   "id": "41af522a",
   "metadata": {},
   "outputs": [
    {
     "data": {
      "text/plain": [
       "array([15774.529935  ,  7929.92870417, 10794.2066125 , 11213.70740833,\n",
       "       11173.4083075 , 12110.7990925 , 11805.84224417,  8748.68187917,\n",
       "       20233.0998    , 10387.80942083, 22487.84206667,  4047.3680625 ,\n",
       "        8760.71759917, 12000.6544875 , 18866.91812167,  9191.4548875 ,\n",
       "       10052.88393333, 21308.88350833, 10018.95767575,  9446.36685417,\n",
       "       12007.2869625 ,  7714.64901667, 27638.581155  , 13416.11377667,\n",
       "       17844.15006083, 13230.531075  , 11923.8277875 , 15143.71481667,\n",
       "       12681.32361917, 27980.21194583, 17327.43250083,  9434.42839167,\n",
       "        6274.28238417,  5051.011365  , 12160.89979583,  9203.9646275 ,\n",
       "       16335.33869167,  7037.2896575 ,  4508.768735  , 12265.28310833,\n",
       "       16679.323575  ,  9905.15169167, 11381.57902083,  8876.603715  ,\n",
       "        9784.99388333, 14665.0191    , 17880.13298083, 15576.7871175 ,\n",
       "       12115.66364583, 11390.34181333, 18125.62008917,  5211.23624583,\n",
       "       17477.5416    , 14269.03396667, 14147.63295583,  9897.46463333,\n",
       "       10429.8706525 , 19669.15820833, 11374.41066667,  7634.63711667,\n",
       "       15950.40210833, 18320.97306667, 12876.31866667, 14789.58746333,\n",
       "        9519.60633333, 17840.24215833, 15229.09665   ,  7754.16015833,\n",
       "       14337.11932667, 11670.35679167,  5319.77173333, 18316.64934833,\n",
       "       22039.15537917, 10072.19437333, 20761.73603833, 16010.40129167,\n",
       "       13459.25501667,  9620.5727    , 16213.22530833, 18228.67247417,\n",
       "       19224.462025  , 11768.03545833,  6503.84194   ,  9070.4733875 ,\n",
       "       11288.65245583, 18841.938075  , 20761.73603833,  6692.30912917,\n",
       "       18144.9026625 , 10440.3161225 , 19381.38231583,  9690.718625  ,\n",
       "       20210.71286083, 23593.87218583,  7297.39026417, 20206.88004417,\n",
       "       16946.62892833, 11657.24046833,  5492.53989583, 11697.02470833,\n",
       "       23574.92190083, 11564.07201667, 21162.8934375 , 14250.50181917,\n",
       "        7629.73110833, 18081.02081167, 11630.339525  , 12788.18537917,\n",
       "       12350.997585  ,  5048.46290417,  8391.09561417,  5530.48252083,\n",
       "       13036.62625833, 12675.80471583, 20761.73603833, 16702.80477917,\n",
       "       15030.61944083, 13244.26880667, 13294.94941667, 17001.05867667,\n",
       "       11730.93937083,  9306.62259917,  6235.70873333, 23682.8772175 ,\n",
       "       19939.22259167, 28237.689175  ,  3914.35      , 11473.71795167,\n",
       "        8433.82581417, 13953.514595  ,  3890.8263625 ,  9743.6078875 ,\n",
       "        7167.9394375 , 16945.68990333,  9271.28730167, 14734.55235583,\n",
       "       10898.93725333, 14816.50189333, 20975.0963075 , 17154.862165  ,\n",
       "       16868.93121583, 15939.70994917, 13035.4338625 , 12123.60387083,\n",
       "        9546.77861667, 20531.5258075 ,  5884.314945  , 19310.78264417,\n",
       "        6987.95509667, 15970.19204   , 18834.62333417, 10591.137825  ,\n",
       "        9325.47677083,  7355.6778275 , 12742.09555   , 25787.21058167,\n",
       "        9834.01797333, 22771.1221025 ,  8662.64186667,  2994.37578333,\n",
       "        9700.313825  ,  9901.77986667, 23303.33818583, 16147.16581333,\n",
       "       13311.77100833, 21679.24975917, 14184.7407875 ,  6268.95169167,\n",
       "       13418.74155833,  9812.65315   , 18378.279465  , 10978.36617083,\n",
       "       10466.02828667, 21483.3074075 ,  6810.48282917,  8451.33783833,\n",
       "       17653.32740167, 10099.71143333, 10540.2489575 , 20706.5664675 ,\n",
       "        7321.20974333, 12090.48822083,  4453.84794167, 20661.10131417,\n",
       "       15888.43441167, 12411.21275583, 17062.40642583, 13752.9424375 ,\n",
       "        3805.79834417, 11975.3408    ,  9620.5727    ,  5778.5835625 ,\n",
       "        7509.3601    , 28115.21580833,  9173.95099167, 11442.2938875 ,\n",
       "       15672.35567167, 13506.66979167, 22505.65892167,  7969.97279167,\n",
       "       15905.49290083,  7160.35455667, 15566.25428333, 20367.27644083,\n",
       "       15766.00895417, 21026.10772333, 13316.65670167,  6409.5229    ,\n",
       "       16501.77333333, 16210.7136875 , 12229.78579167, 10638.75422333,\n",
       "        7386.18211583, 14104.57277333,  7680.56550833,  9948.76748667,\n",
       "        9272.79510917,  6661.623275  , 25065.6622625 , 13224.4196725 ,\n",
       "        6672.2206625 ,  8436.1394375 , 13818.0466725 , 16913.00997083,\n",
       "       14848.26140417, 14640.82049167, 14866.2771275 ,  9739.91515417,\n",
       "        7579.38113167, 11848.09271167, 17981.36772917, 17839.91066083,\n",
       "       28205.20472417, 15132.5654    ,  8815.6388175 ,  9063.31609333,\n",
       "        6479.5064125 ,  7241.00156667,  6629.23366167, 19973.59496167,\n",
       "       21099.736     ,  4965.1604075 , 11119.17812417, 30735.53499167,\n",
       "       16175.0322575 , 17588.63278583, 11271.25962667, 22128.94643333,\n",
       "       15472.1076625 , 10579.79225417,  5389.27349167,  8145.41272083,\n",
       "       20863.24881667, 19982.99750083,  7034.120575  , 17430.08195667,\n",
       "       11415.44687917, 12611.02281167, 10802.70525583,  9260.82132833,\n",
       "        7781.64540833, 14526.55355833, 19282.395175  , 14207.21571917,\n",
       "        9306.34631667, 19669.15820833, 21316.91379917, 10400.22609833,\n",
       "       10989.47153   ,  3986.2953225 ,  6780.69028333, 19587.9648125 ,\n",
       "       13658.8285375 , 14565.93728917,  7732.50900833, 14563.74584667,\n",
       "       15384.77185417,  6243.41059167, 15086.35339833, 15359.425165  ,\n",
       "        9605.46312333,  5258.79152083,  5778.5143125 , 23195.856345  ,\n",
       "       19496.82059   , 10629.0436225 ,  2522.8206125 ,  2807.69835833,\n",
       "        7547.34408333,  8278.27294167, 23134.17610583, 10968.24639333,\n",
       "       14571.00831667, 20024.72277167, 10865.47289   , 15101.805     ,\n",
       "       10116.41057417, 11086.3271825 , 20359.10977417, 18016.09431167,\n",
       "       20027.94571083,  7825.6526725 ,  7650.97710417, 20216.38411333,\n",
       "        9082.36099583, 12535.55792917, 19604.288955  , 12649.746     ,\n",
       "       11140.51425417,  6171.2460725 , 13618.42270417, 11162.14345   ,\n",
       "       10380.38114167, 19121.509775  , 17054.23659583, 13502.57097417,\n",
       "        9568.90952583,  6226.71884583, 19736.30984583, 12976.203175  ,\n",
       "       20724.90656333,  6723.47295417,  4896.85976667, 15462.53925333,\n",
       "        6572.80265833, 10907.84229583,  6552.85708333,  9459.23419667,\n",
       "       17818.40049917,  6695.79654167, 15110.99779583, 20477.06654667,\n",
       "       14288.4435075 , 11049.58665333, 11104.7849625 ,  3948.1267125 ,\n",
       "        8154.29793583,  7929.65145833, 16913.616325  ,  5054.16239667,\n",
       "        9246.98415   , 14763.69717083,  7521.0164225 , 15053.48319167,\n",
       "       13902.18068583,  5214.04698917, 20637.63979083, 15743.74950167,\n",
       "       12177.11864667, 23836.4893425 , 12736.39170417, 11116.64688333,\n",
       "       15366.87947667, 17044.5436725 ,  9437.6105625 , 25266.98103833,\n",
       "       25263.94904   ,  4631.9900325 ,  9890.68341667,  7548.4085125 ,\n",
       "       11106.8973375 , 12757.85134083, 15966.28158167, 10252.98099583,\n",
       "        9259.724475  , 11736.7734725 , 27375.37928   , 14553.95483083,\n",
       "        6191.04095833,  5176.92114583,  5784.47654   , 10549.810975  ,\n",
       "       15649.15956667,  9915.29090167,  5742.08525417, 15453.60070167,\n",
       "        7902.28514325, 16741.1544725 , 13862.82314167, 14765.725635  ,\n",
       "       16928.49924583, 15784.5053025 , 17510.91723333,  9192.44851667,\n",
       "        7782.1939125 , 13388.47022917,  7382.59223833, 14867.3046875 ,\n",
       "       22980.05651083,  6755.2854075 ,  6028.61253833, 18176.9857975 ,\n",
       "       14705.10465083, 11423.3215125 ,  5617.14933583, 15131.4708375 ,\n",
       "       12463.13611667, 20428.48519667,  5856.02822417,  1913.3279375 ,\n",
       "       14995.02836833, 21087.56096167])"
      ]
     },
     "execution_count": 33,
     "metadata": {},
     "output_type": "execute_result"
    }
   ],
   "source": [
    "K_predct1 = neigh1.predict(xtest)\n",
    "K_predct1\n"
   ]
  },
  {
   "cell_type": "code",
   "execution_count": 34,
   "id": "f72530cb",
   "metadata": {},
   "outputs": [],
   "source": [
    "r2knn_2 = r2_score(ytest, K_predct1)"
   ]
  },
  {
   "cell_type": "code",
   "execution_count": 36,
   "id": "7acf3667",
   "metadata": {},
   "outputs": [
    {
     "data": {
      "text/plain": [
       "0.1697273354524813"
      ]
     },
     "execution_count": 36,
     "metadata": {},
     "output_type": "execute_result"
    }
   ],
   "source": [
    "r2knn_2"
   ]
  },
  {
   "cell_type": "code",
   "execution_count": 37,
   "id": "bf961030",
   "metadata": {},
   "outputs": [],
   "source": [
    "r2scores_df = pd.DataFrame([ ['MLR',  r2_MLR], ['KNN', r2knn_2]], columns=['Algorithm Name', 'r2_scores'])"
   ]
  },
  {
   "cell_type": "code",
   "execution_count": 38,
   "id": "85ae462d",
   "metadata": {},
   "outputs": [
    {
     "data": {
      "text/html": [
       "<div>\n",
       "<style scoped>\n",
       "    .dataframe tbody tr th:only-of-type {\n",
       "        vertical-align: middle;\n",
       "    }\n",
       "\n",
       "    .dataframe tbody tr th {\n",
       "        vertical-align: top;\n",
       "    }\n",
       "\n",
       "    .dataframe thead th {\n",
       "        text-align: right;\n",
       "    }\n",
       "</style>\n",
       "<table border=\"1\" class=\"dataframe\">\n",
       "  <thead>\n",
       "    <tr style=\"text-align: right;\">\n",
       "      <th></th>\n",
       "      <th>Algorithm Name</th>\n",
       "      <th>r2_scores</th>\n",
       "    </tr>\n",
       "  </thead>\n",
       "  <tbody>\n",
       "    <tr>\n",
       "      <th>0</th>\n",
       "      <td>MLR</td>\n",
       "      <td>0.748144</td>\n",
       "    </tr>\n",
       "    <tr>\n",
       "      <th>1</th>\n",
       "      <td>KNN</td>\n",
       "      <td>0.169727</td>\n",
       "    </tr>\n",
       "  </tbody>\n",
       "</table>\n",
       "</div>"
      ],
      "text/plain": [
       "  Algorithm Name  r2_scores\n",
       "0            MLR   0.748144\n",
       "1            KNN   0.169727"
      ]
     },
     "execution_count": 38,
     "metadata": {},
     "output_type": "execute_result"
    }
   ],
   "source": [
    "r2scores_df"
   ]
  },
  {
   "cell_type": "code",
   "execution_count": 39,
   "id": "56c2d3f1",
   "metadata": {},
   "outputs": [
    {
     "data": {
      "image/png": "[encoded data removed]",
      "text/plain": [
       "<Figure size 432x288 with 1 Axes>"
      ]
     },
     "metadata": {},
     "output_type": "display_data"
    }
   ],
   "source": [
    "sns.set()\n",
    "sns.barplot(y=\"Algorithm Name\", x=\"r2_scores\",  data=r2scores_df,  palette=\"Set2\").set(title='Accuracy Plot')   \n",
    "sns.set(rc={'figure.figsize':(3,20)})  \n"
   ]
  },
  {
   "cell_type": "code",
   "execution_count": null,
   "id": "b2a5aea4",
   "metadata": {},
   "outputs": [],
   "source": []
  }
 ],
 "metadata": {
  "kernelspec": {
   "display_name": "Python 3 (ipykernel)",
   "language": "python",
   "name": "python3"
  },
  "language_info": {
   "codemirror_mode": {
    "name": "ipython",
    "version": 3
   },
   "file_extension": ".py",
   "mimetype": "text/x-python",
   "name": "python",
   "nbconvert_exporter": "python",
   "pygments_lexer": "ipython3",
   "version": "3.9.12"
  }
 },
 "nbformat": 4,
 "nbformat_minor": 5
}
